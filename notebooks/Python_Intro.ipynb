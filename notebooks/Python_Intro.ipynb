{
 "cells": [
  {
   "cell_type": "markdown",
   "metadata": {},
   "source": [
    "# Functions\n",
    "\n",
    "![function](image1.png)"
   ]
  },
  {
   "cell_type": "markdown",
   "metadata": {},
   "source": [
    "# Calling or invoking function\n",
    "\n",
    "A function is some stored code that we use. A function takes some input and produces an output"
   ]
  },
  {
   "cell_type": "markdown",
   "metadata": {},
   "source": [
    "### Type Convesions\n",
    " - <mark> When you put an integer and floating point in an expression, the integer is implicitly converted to a float.</mark>\n",
    " - You can control this with the built-in functions int() and float()"
   ]
  },
  {
   "cell_type": "code",
   "execution_count": 4,
   "metadata": {},
   "outputs": [
    {
     "name": "stdout",
     "output_type": "stream",
     "text": [
      "0.99\n",
      "<class 'int'>\n",
      "42.0\n",
      "-2.5\n"
     ]
    }
   ],
   "source": [
    "print(float(99)/100)\n",
    "i = 42\n",
    "print(type(i))\n",
    "f = float(i)\n",
    "print(f)\n",
    "\n",
    "type(f)\n",
    "print(1 + 2 * float(3) /4 - 5)\n"
   ]
  },
  {
   "cell_type": "markdown",
   "metadata": {},
   "source": [
    "## Building Functions\n",
    "- def statement only defines the function \n",
    "- A parameter is a variable which we use in the function definitionIt is a \"<mark>handle</mark>\" to access the arguments for a particular function invocation."
   ]
  },
  {
   "cell_type": "code",
   "execution_count": 2,
   "metadata": {},
   "outputs": [
    {
     "name": "stdout",
     "output_type": "stream",
     "text": [
      "Hola\n",
      "Hello\n",
      "Bonjour\n"
     ]
    }
   ],
   "source": [
    "def greet(lang):\n",
    "    if lang == 'es':\n",
    "        print('Hola')\n",
    "    elif lang == 'fr':\n",
    "        print('Bonjour')\n",
    "    else:\n",
    "        print('Hello')\n",
    "\n",
    "greet('es')\n",
    "greet('en')\n",
    "greet('fr')\n",
    "    "
   ]
  },
  {
   "cell_type": "markdown",
   "metadata": {},
   "source": [
    "### Return Values\n",
    "\n",
    "A function will take arguements, do some computation and <mark>return a value to be used as the value of the function call in the calling expression </mark> \n",
    "The return keyword is used for this.\n",
    "\n",
    "   - a fruitful function is one that produces a result(or <mark>return value</mark>\n",
    "   \n",
    "  - The return statement ends the function execution and sends  back the result of the function\n",
    "\n"
   ]
  },
  {
   "cell_type": "code",
   "execution_count": 2,
   "metadata": {},
   "outputs": [
    {
     "name": "stdout",
     "output_type": "stream",
     "text": [
      "Hello glenn\n",
      "Hello john\n"
     ]
    }
   ],
   "source": [
    "#Return does the following:\n",
    "# 1. stops the functions\n",
    "# 2. determines the residual value. \n",
    "\n",
    "def greet():\n",
    "    return \"Hello\"\n",
    "\n",
    "print(greet(), \"glenn\")\n",
    "\n",
    "print(greet(), \"john\")\n",
    "\n",
    "\n",
    "\n"
   ]
  },
  {
   "cell_type": "markdown",
   "metadata": {},
   "source": [
    "## Loops and Iteration\n",
    "\n",
    "![loops](loops.png)"
   ]
  },
  {
   "cell_type": "code",
   "execution_count": null,
   "metadata": {},
   "outputs": [],
   "source": []
  },
  {
   "cell_type": "markdown",
   "metadata": {},
   "source": [
    "- The break statement ends the current loops and jumps to the statement immediately following the loop. \n",
    "- It is like a loop test that can happen anywhere in the body of the loop"
   ]
  },
  {
   "cell_type": "code",
   "execution_count": 7,
   "metadata": {},
   "outputs": [
    {
     "name": "stdout",
     "output_type": "stream",
     "text": [
      ">sd\n",
      "sd\n",
      ">sd\n",
      "sd\n",
      ">done\n",
      "Done!\n"
     ]
    }
   ],
   "source": [
    "while True:\n",
    "     line = input('>')\n",
    "     if line == 'done':\n",
    "        break \n",
    "     print(line)\n",
    "print('Done!')"
   ]
  },
  {
   "cell_type": "markdown",
   "metadata": {},
   "source": [
    "- The continue statement ends the current iteration and jumps to the top of the loop and starts the next iteration"
   ]
  },
  {
   "cell_type": "code",
   "execution_count": 15,
   "metadata": {},
   "outputs": [
    {
     "name": "stdout",
     "output_type": "stream",
     "text": [
      "> ew\n",
      "ew\n",
      "> #\n",
      "> done\n",
      "Done!\n"
     ]
    }
   ],
   "source": [
    "while True:\n",
    "    line = input('> ')\n",
    "    if line[0] == '#' :\n",
    "         continue\n",
    "    if line == 'done':\n",
    "        break \n",
    "    print(line)\n",
    "print('Done!')\n"
   ]
  },
  {
   "cell_type": "markdown",
   "metadata": {},
   "source": [
    "A Simple Definite loop(For loops)"
   ]
  },
  {
   "cell_type": "code",
   "execution_count": 16,
   "metadata": {
    "scrolled": true
   },
   "outputs": [
    {
     "name": "stdout",
     "output_type": "stream",
     "text": [
      "5\n",
      "4\n",
      "3\n",
      "2\n",
      "1\n",
      "Blastoff\n"
     ]
    }
   ],
   "source": [
    "for i in [5,4,3,2,1]:\n",
    "    print(i)\n",
    "print('Blastoff')"
   ]
  },
  {
   "cell_type": "code",
   "execution_count": 18,
   "metadata": {
    "scrolled": true
   },
   "outputs": [
    {
     "name": "stdout",
     "output_type": "stream",
     "text": [
      "Happy New Year:  Joseph\n",
      "Happy New Year:  Glenn\n",
      "Happy New Year:  Peter\n",
      "Done!\n"
     ]
    }
   ],
   "source": [
    "friends = ['Joseph', 'Glenn','Peter']\n",
    "\n",
    "for friend in friends :\n",
    "    print('Happy New Year: ', friend)\n",
    "print('Done!')"
   ]
  },
  {
   "cell_type": "markdown",
   "metadata": {},
   "source": [
    "![loops](loops2.png)"
   ]
  },
  {
   "cell_type": "markdown",
   "metadata": {},
   "source": [
    "- The <mark>iteration variable</mark> \"iterates\" through the sequence(ordered set)\n",
    "- The <mark>block</mark> of code is executed once for each value in the sequence\n",
    "- The iteration variable moves through all the values in the sequence.\n",
    "\n",
    "![loops](loop3.png)\n"
   ]
  },
  {
   "cell_type": "markdown",
   "metadata": {},
   "source": [
    "## Finding the largest so far \n"
   ]
  },
  {
   "cell_type": "code",
   "execution_count": 1,
   "metadata": {},
   "outputs": [
    {
     "name": "stdout",
     "output_type": "stream",
     "text": [
      "Before -1\n",
      "LSF: 9\n",
      "LSF: 51\n",
      "LSF: 12\n",
      "LSF: 3\n",
      "LSF: 74\n",
      "LSF: 15\n",
      "After 74\n"
     ]
    }
   ],
   "source": [
    "lsf = -1\n",
    "print('Before', lsf)\n",
    "for the_num in [9, 51, 12, 3 , 74 ,15]:\n",
    "    if the_num > lsf:\n",
    "        lsf = the_num\n",
    "    print('LSF:', the_num)\n",
    "print('After', lsf)\n",
    "    "
   ]
  },
  {
   "cell_type": "markdown",
   "metadata": {},
   "source": [
    "## Loop Idioms"
   ]
  },
  {
   "cell_type": "code",
   "execution_count": 2,
   "metadata": {
    "scrolled": true
   },
   "outputs": [
    {
     "name": "stdout",
     "output_type": "stream",
     "text": [
      "Before 0\n",
      "1 9\n",
      "2 51\n",
      "3 12\n",
      "4 3\n",
      "5 74\n",
      "6 15\n",
      "After 6\n"
     ]
    }
   ],
   "source": [
    "# counting in a loops\n",
    "\n",
    "zork = 0 \n",
    "\n",
    "print('Before', zork)\n",
    "for thing in[9, 51, 12, 3 , 74 ,15]:\n",
    "    zork = zork + 1\n",
    "    print(zork, thing)\n",
    "print('After', zork)\n"
   ]
  },
  {
   "cell_type": "code",
   "execution_count": 5,
   "metadata": {},
   "outputs": [
    {
     "name": "stdout",
     "output_type": "stream",
     "text": [
      "Before 0\n",
      "9 9\n",
      "50 41\n",
      "62 12\n",
      "65 3\n",
      "139 74\n",
      "154 15\n",
      "After 154\n"
     ]
    }
   ],
   "source": [
    "#summing in a loop\n",
    "\n",
    "\n",
    "zork = 0 \n",
    "\n",
    "print('Before', zork)\n",
    "for thing in[9, 41, 12, 3 , 74 ,15]:\n",
    "    zork = zork + thing\n",
    "    print(zork, thing)\n",
    "print('After', zork)"
   ]
  },
  {
   "cell_type": "code",
   "execution_count": 7,
   "metadata": {
    "scrolled": true
   },
   "outputs": [
    {
     "name": "stdout",
     "output_type": "stream",
     "text": [
      "Before 0 0\n",
      "1 9 9\n",
      "2 50 41\n",
      "3 62 12\n",
      "4 65 3\n",
      "5 139 74\n",
      "6 154 15\n",
      "After 6 154 25.666666666666668\n"
     ]
    }
   ],
   "source": [
    "# find avg \n",
    "\n",
    "\n",
    "count = 0\n",
    "sum = 0\n",
    "\n",
    "print('Before', count, sum)\n",
    "for value in [9, 41, 12, 3 , 74 ,15]:\n",
    "    count= count + 1\n",
    "    sum = sum +value\n",
    "    print(count,sum,value)\n",
    "print('After', count, sum, sum / count)"
   ]
  },
  {
   "cell_type": "code",
   "execution_count": null,
   "metadata": {},
   "outputs": [],
   "source": []
  }
 ],
 "metadata": {
  "kernelspec": {
   "display_name": "Python 3",
   "language": "python",
   "name": "python3"
  },
  "language_info": {
   "codemirror_mode": {
    "name": "ipython",
    "version": 3
   },
   "file_extension": ".py",
   "mimetype": "text/x-python",
   "name": "python",
   "nbconvert_exporter": "python",
   "pygments_lexer": "ipython3",
   "version": "3.7.5"
  }
 },
 "nbformat": 4,
 "nbformat_minor": 4
}
